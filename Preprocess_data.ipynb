{
 "metadata": {
  "language_info": {
   "codemirror_mode": {
    "name": "ipython",
    "version": 3
   },
   "file_extension": ".py",
   "mimetype": "text/x-python",
   "name": "python",
   "nbconvert_exporter": "python",
   "pygments_lexer": "ipython3",
   "version": "3.8.8"
  },
  "orig_nbformat": 2,
  "kernelspec": {
   "name": "python3",
   "display_name": "Python 3.8.8 64-bit ('base': conda)"
  },
  "interpreter": {
   "hash": "deb973d6dfff8032401b225d20659a0b8bf8ec7835e3e4b8699548bc28211604"
  }
 },
 "nbformat": 4,
 "nbformat_minor": 2,
 "cells": [
  {
   "cell_type": "code",
   "execution_count": 1,
   "metadata": {},
   "outputs": [],
   "source": [
    "#Math/Data manipulation\n",
    "import numpy as np\n",
    "import pandas as pd\n",
    "\n",
    "#Plotting\n",
    "import matplotlib.pyplot as plt\n",
    "import seaborn as sns\n",
    "\n",
    "#ML packages\n",
    "from sklearn.model_selection import train_test_split\n",
    "from sklearn.preprocessing import StandardScaler\n",
    "\n",
    "import numpy as np\n",
    "import tensorflow as tf\n",
    "from tensorflow import keras\n",
    "from tensorflow.keras import layers\n",
    "\n",
    "from tensorflow.keras.preprocessing.image import ImageDataGenerator, array_to_img, img_to_array, load_img\n",
    "from tensorflow.keras.layers.experimental.preprocessing import Rescaling"
   ]
  },
  {
   "cell_type": "code",
   "execution_count": 6,
   "metadata": {},
   "outputs": [],
   "source": [
    "path_prefix = './test_GRIP_31may2021/GRIP_raw/'"
   ]
  },
  {
   "cell_type": "code",
   "execution_count": 7,
   "metadata": {},
   "outputs": [
    {
     "output_type": "execute_result",
     "data": {
      "text/plain": [
       "   Sample  Particle ID  Area (ABD)  Area (Filled)  Aspect Ratio  \\\n",
       "0       0            1        9.85           9.85          0.61   \n",
       "1       1            2        0.68           0.68          0.84   \n",
       "2       2            3       10.19          10.19          0.68   \n",
       "3       3            4      178.99         178.99          0.57   \n",
       "4       4            5        0.74           0.74          0.82   \n",
       "\n",
       "   Biovolume (Cylinder)  Biovolume (P. Spheroid)  Biovolume (Sphere)  \\\n",
       "0                 50.00                    16.19               23.27   \n",
       "1                  1.77                     0.38                0.42   \n",
       "2                 46.44                    18.72               24.48   \n",
       "3               1980.59                  1342.22             1801.36   \n",
       "4                  2.28                     0.44                0.48   \n",
       "\n",
       "   Calibration Factor  Calibration Image  ...  Sphere Volume  Sum Intensity  \\\n",
       "0              0.2752                  1  ...           0.00        19521.0   \n",
       "1              0.2752                  1  ...           0.00         3918.0   \n",
       "2              0.2752                  1  ...           0.00        23634.0   \n",
       "3              0.2752                  1  ...           4.98       169831.0   \n",
       "4              0.2752                  1  ...           9.76         3903.0   \n",
       "\n",
       "   Symmetry      Time                Timestamp  Transparency  Volume (ABD)  \\\n",
       "0      0.80  15:56:41  2020-11-20T14:56:41.039          0.10     23.270120   \n",
       "1      0.00  15:56:41  2020-11-20T14:56:41.313          0.04      0.423324   \n",
       "2      0.83  15:56:41  2020-11-20T14:56:41.583          0.07     24.475530   \n",
       "3      0.79  15:56:41  2020-11-20T14:56:41.766          0.11   1801.358000   \n",
       "4      0.00  15:56:42  2020-11-20T14:56:42.039          0.06      0.477327   \n",
       "\n",
       "   Volume (ESD)  Width                                           imgpaths  \n",
       "0     32.063020   2.75  /home/nico/Desktop/MarieCurie/Flowcam/test/GRI...  \n",
       "1      0.481389   0.83  /home/nico/Desktop/MarieCurie/Flowcam/test/GRI...  \n",
       "2     30.728550   2.89  /home/nico/Desktop/MarieCurie/Flowcam/test/GRI...  \n",
       "3   2522.085000  11.31  /home/nico/Desktop/MarieCurie/Flowcam/test/GRI...  \n",
       "4      0.571251   0.92  /home/nico/Desktop/MarieCurie/Flowcam/test/GRI...  \n",
       "\n",
       "[5 rows x 58 columns]"
      ],
      "text/html": "<div>\n<style scoped>\n    .dataframe tbody tr th:only-of-type {\n        vertical-align: middle;\n    }\n\n    .dataframe tbody tr th {\n        vertical-align: top;\n    }\n\n    .dataframe thead th {\n        text-align: right;\n    }\n</style>\n<table border=\"1\" class=\"dataframe\">\n  <thead>\n    <tr style=\"text-align: right;\">\n      <th></th>\n      <th>Sample</th>\n      <th>Particle ID</th>\n      <th>Area (ABD)</th>\n      <th>Area (Filled)</th>\n      <th>Aspect Ratio</th>\n      <th>Biovolume (Cylinder)</th>\n      <th>Biovolume (P. Spheroid)</th>\n      <th>Biovolume (Sphere)</th>\n      <th>Calibration Factor</th>\n      <th>Calibration Image</th>\n      <th>...</th>\n      <th>Sphere Volume</th>\n      <th>Sum Intensity</th>\n      <th>Symmetry</th>\n      <th>Time</th>\n      <th>Timestamp</th>\n      <th>Transparency</th>\n      <th>Volume (ABD)</th>\n      <th>Volume (ESD)</th>\n      <th>Width</th>\n      <th>imgpaths</th>\n    </tr>\n  </thead>\n  <tbody>\n    <tr>\n      <th>0</th>\n      <td>0</td>\n      <td>1</td>\n      <td>9.85</td>\n      <td>9.85</td>\n      <td>0.61</td>\n      <td>50.00</td>\n      <td>16.19</td>\n      <td>23.27</td>\n      <td>0.2752</td>\n      <td>1</td>\n      <td>...</td>\n      <td>0.00</td>\n      <td>19521.0</td>\n      <td>0.80</td>\n      <td>15:56:41</td>\n      <td>2020-11-20T14:56:41.039</td>\n      <td>0.10</td>\n      <td>23.270120</td>\n      <td>32.063020</td>\n      <td>2.75</td>\n      <td>/home/nico/Desktop/MarieCurie/Flowcam/test/GRI...</td>\n    </tr>\n    <tr>\n      <th>1</th>\n      <td>1</td>\n      <td>2</td>\n      <td>0.68</td>\n      <td>0.68</td>\n      <td>0.84</td>\n      <td>1.77</td>\n      <td>0.38</td>\n      <td>0.42</td>\n      <td>0.2752</td>\n      <td>1</td>\n      <td>...</td>\n      <td>0.00</td>\n      <td>3918.0</td>\n      <td>0.00</td>\n      <td>15:56:41</td>\n      <td>2020-11-20T14:56:41.313</td>\n      <td>0.04</td>\n      <td>0.423324</td>\n      <td>0.481389</td>\n      <td>0.83</td>\n      <td>/home/nico/Desktop/MarieCurie/Flowcam/test/GRI...</td>\n    </tr>\n    <tr>\n      <th>2</th>\n      <td>2</td>\n      <td>3</td>\n      <td>10.19</td>\n      <td>10.19</td>\n      <td>0.68</td>\n      <td>46.44</td>\n      <td>18.72</td>\n      <td>24.48</td>\n      <td>0.2752</td>\n      <td>1</td>\n      <td>...</td>\n      <td>0.00</td>\n      <td>23634.0</td>\n      <td>0.83</td>\n      <td>15:56:41</td>\n      <td>2020-11-20T14:56:41.583</td>\n      <td>0.07</td>\n      <td>24.475530</td>\n      <td>30.728550</td>\n      <td>2.89</td>\n      <td>/home/nico/Desktop/MarieCurie/Flowcam/test/GRI...</td>\n    </tr>\n    <tr>\n      <th>3</th>\n      <td>3</td>\n      <td>4</td>\n      <td>178.99</td>\n      <td>178.99</td>\n      <td>0.57</td>\n      <td>1980.59</td>\n      <td>1342.22</td>\n      <td>1801.36</td>\n      <td>0.2752</td>\n      <td>1</td>\n      <td>...</td>\n      <td>4.98</td>\n      <td>169831.0</td>\n      <td>0.79</td>\n      <td>15:56:41</td>\n      <td>2020-11-20T14:56:41.766</td>\n      <td>0.11</td>\n      <td>1801.358000</td>\n      <td>2522.085000</td>\n      <td>11.31</td>\n      <td>/home/nico/Desktop/MarieCurie/Flowcam/test/GRI...</td>\n    </tr>\n    <tr>\n      <th>4</th>\n      <td>4</td>\n      <td>5</td>\n      <td>0.74</td>\n      <td>0.74</td>\n      <td>0.82</td>\n      <td>2.28</td>\n      <td>0.44</td>\n      <td>0.48</td>\n      <td>0.2752</td>\n      <td>1</td>\n      <td>...</td>\n      <td>9.76</td>\n      <td>3903.0</td>\n      <td>0.00</td>\n      <td>15:56:42</td>\n      <td>2020-11-20T14:56:42.039</td>\n      <td>0.06</td>\n      <td>0.477327</td>\n      <td>0.571251</td>\n      <td>0.92</td>\n      <td>/home/nico/Desktop/MarieCurie/Flowcam/test/GRI...</td>\n    </tr>\n  </tbody>\n</table>\n<p>5 rows × 58 columns</p>\n</div>"
     },
     "metadata": {},
     "execution_count": 7
    }
   ],
   "source": [
    "data_overview = pd.read_csv(path_prefix+'GRIP_3136_raw.csv') \n",
    "data_overview.head()"
   ]
  },
  {
   "cell_type": "code",
   "execution_count": 8,
   "metadata": {},
   "outputs": [
    {
     "output_type": "execute_result",
     "data": {
      "text/plain": [
       "'/home/nico/Desktop/MarieCurie/Flowcam/test/GRIP_raw/GRIP_3136_0_20_1/GRIP_3136_0_20_1_1.png'"
      ]
     },
     "metadata": {},
     "execution_count": 8
    }
   ],
   "source": [
    "data_overview['imgpaths'][0]"
   ]
  },
  {
   "cell_type": "code",
   "execution_count": 4,
   "metadata": {},
   "outputs": [],
   "source": [
    "def load_and_process_images(df):\n",
    "  img_list = []\n",
    "  target_size = 256\n",
    "  for path in df['imgpaths']:\n",
    "    img = load_img(path, color_mode='grayscale')\n",
    "    largest_dim = np.argmax([img.size[0], img.size[1]])\n",
    "    ratio = target_size / img.size[largest_dim]\n",
    "    img = img.resize((int(img.size[0]*ratio), int(img.size[1]*ratio)))\n",
    "    img = img_to_array(img)\n",
    "    img *= (1./255)\n",
    "    img = 1 - img\n",
    "    img = np.pad(img[:,:,0], [( (target_size-img.shape[0]) // 2 , (target_size-img.shape[0]) // 2 + ((target_size - img.shape[0])%2)), ( (target_size-img.shape[1]) // 2 , (target_size-img.shape[1]) // 2 + ((target_size - img.shape[1])%2))], mode='constant', constant_values=img.min())\n",
    "    img = img.reshape(256,256,1)\n",
    "#    img = list(img)\n",
    "    img_list.append(img)\n",
    "  df['image'] = img_list\n",
    "  return df"
   ]
  },
  {
   "cell_type": "code",
   "execution_count": 5,
   "metadata": {},
   "outputs": [
    {
     "output_type": "stream",
     "name": "stderr",
     "text": [
      "<ipython-input-5-f04bf1d28d21>:11: SettingWithCopyWarning: \nA value is trying to be set on a copy of a slice from a DataFrame\n\nSee the caveats in the documentation: https://pandas.pydata.org/pandas-docs/stable/user_guide/indexing.html#returning-a-view-versus-a-copy\n  subset['Label'][data_overview['camp']==1] = 0\n<ipython-input-5-f04bf1d28d21>:12: SettingWithCopyWarning: \nA value is trying to be set on a copy of a slice from a DataFrame\n\nSee the caveats in the documentation: https://pandas.pydata.org/pandas-docs/stable/user_guide/indexing.html#returning-a-view-versus-a-copy\n  subset['Label'][data_overview['corylus']==1] = 1\n<ipython-input-5-f04bf1d28d21>:13: SettingWithCopyWarning: \nA value is trying to be set on a copy of a slice from a DataFrame\n\nSee the caveats in the documentation: https://pandas.pydata.org/pandas-docs/stable/user_guide/indexing.html#returning-a-view-versus-a-copy\n  subset['Label'][data_overview['dust']==1] = 2\n<ipython-input-5-f04bf1d28d21>:14: SettingWithCopyWarning: \nA value is trying to be set on a copy of a slice from a DataFrame\n\nSee the caveats in the documentation: https://pandas.pydata.org/pandas-docs/stable/user_guide/indexing.html#returning-a-view-versus-a-copy\n  subset['Label'][data_overview['grim']==1] = 3\n<ipython-input-5-f04bf1d28d21>:15: SettingWithCopyWarning: \nA value is trying to be set on a copy of a slice from a DataFrame\n\nSee the caveats in the documentation: https://pandas.pydata.org/pandas-docs/stable/user_guide/indexing.html#returning-a-view-versus-a-copy\n  subset['Label'][data_overview['qrob']==1] = 4\n<ipython-input-5-f04bf1d28d21>:16: SettingWithCopyWarning: \nA value is trying to be set on a copy of a slice from a DataFrame\n\nSee the caveats in the documentation: https://pandas.pydata.org/pandas-docs/stable/user_guide/indexing.html#returning-a-view-versus-a-copy\n  subset['Label'][data_overview['qsub']==1] = 5\n"
     ]
    },
    {
     "output_type": "execute_result",
     "data": {
      "text/plain": [
       "                                      imgpaths  Area (ABD)  Area (Filled)  \\\n",
       "0  train/campanian/camp_11nov_4_fc80_20x_1.png       41.72          41.72   \n",
       "1  train/campanian/camp_11nov_4_fc80_20x_2.png       22.96          22.96   \n",
       "2  train/campanian/camp_11nov_4_fc80_20x_3.png      396.76         402.93   \n",
       "3  train/campanian/camp_11nov_4_fc80_20x_4.png       41.14          42.30   \n",
       "4  train/campanian/camp_11nov_4_fc80_20x_5.png       23.83          23.83   \n",
       "\n",
       "   Aspect Ratio  Biovolume (Cylinder)  Biovolume (P. Spheroid)  \\\n",
       "0          0.70                283.50                   164.42   \n",
       "1          0.62                133.54                    60.80   \n",
       "2          0.36               3255.70                  3685.72   \n",
       "3          0.64                263.21                   161.45   \n",
       "4          0.64                143.20                    65.85   \n",
       "\n",
       "   Biovolume (Sphere)  Calibration Factor  Circle Fit  Circularity  ...  \\\n",
       "0              202.72              0.2752        0.74         0.88  ...   \n",
       "1               82.78              0.2752        0.67         0.89  ...   \n",
       "2             5945.06              0.2752        0.02         0.42  ...   \n",
       "3              198.50              0.2752        0.63         0.73  ...   \n",
       "4               87.50              0.2752        0.69         0.87  ...   \n",
       "\n",
       "   Sphere Count  Sphere Unknown  Sphere Volume  Sum Intensity  Symmetry  \\\n",
       "0             0             0.0           0.00        42841.0      0.90   \n",
       "1             0             0.0           0.00        44052.0      0.87   \n",
       "2             3             0.0         191.59       652610.0      0.68   \n",
       "3             0             0.0           0.00        57704.0      0.73   \n",
       "4             0             0.0           0.00        47112.0      0.81   \n",
       "\n",
       "   Transparency  Volume (ABD)  Volume (ESD)  Width  Label  \n",
       "0          0.05     202.72440      238.8423   6.12      0  \n",
       "1          0.08      82.77962      105.6288   4.04      0  \n",
       "2          0.21    5945.05700    12171.9000  14.29      0  \n",
       "3          0.12     198.49500      292.0631   5.91      0  \n",
       "4          0.08      87.49621      111.3132   4.28      0  \n",
       "\n",
       "[5 rows x 43 columns]"
      ],
      "text/html": "<div>\n<style scoped>\n    .dataframe tbody tr th:only-of-type {\n        vertical-align: middle;\n    }\n\n    .dataframe tbody tr th {\n        vertical-align: top;\n    }\n\n    .dataframe thead th {\n        text-align: right;\n    }\n</style>\n<table border=\"1\" class=\"dataframe\">\n  <thead>\n    <tr style=\"text-align: right;\">\n      <th></th>\n      <th>imgpaths</th>\n      <th>Area (ABD)</th>\n      <th>Area (Filled)</th>\n      <th>Aspect Ratio</th>\n      <th>Biovolume (Cylinder)</th>\n      <th>Biovolume (P. Spheroid)</th>\n      <th>Biovolume (Sphere)</th>\n      <th>Calibration Factor</th>\n      <th>Circle Fit</th>\n      <th>Circularity</th>\n      <th>...</th>\n      <th>Sphere Count</th>\n      <th>Sphere Unknown</th>\n      <th>Sphere Volume</th>\n      <th>Sum Intensity</th>\n      <th>Symmetry</th>\n      <th>Transparency</th>\n      <th>Volume (ABD)</th>\n      <th>Volume (ESD)</th>\n      <th>Width</th>\n      <th>Label</th>\n    </tr>\n  </thead>\n  <tbody>\n    <tr>\n      <th>0</th>\n      <td>train/campanian/camp_11nov_4_fc80_20x_1.png</td>\n      <td>41.72</td>\n      <td>41.72</td>\n      <td>0.70</td>\n      <td>283.50</td>\n      <td>164.42</td>\n      <td>202.72</td>\n      <td>0.2752</td>\n      <td>0.74</td>\n      <td>0.88</td>\n      <td>...</td>\n      <td>0</td>\n      <td>0.0</td>\n      <td>0.00</td>\n      <td>42841.0</td>\n      <td>0.90</td>\n      <td>0.05</td>\n      <td>202.72440</td>\n      <td>238.8423</td>\n      <td>6.12</td>\n      <td>0</td>\n    </tr>\n    <tr>\n      <th>1</th>\n      <td>train/campanian/camp_11nov_4_fc80_20x_2.png</td>\n      <td>22.96</td>\n      <td>22.96</td>\n      <td>0.62</td>\n      <td>133.54</td>\n      <td>60.80</td>\n      <td>82.78</td>\n      <td>0.2752</td>\n      <td>0.67</td>\n      <td>0.89</td>\n      <td>...</td>\n      <td>0</td>\n      <td>0.0</td>\n      <td>0.00</td>\n      <td>44052.0</td>\n      <td>0.87</td>\n      <td>0.08</td>\n      <td>82.77962</td>\n      <td>105.6288</td>\n      <td>4.04</td>\n      <td>0</td>\n    </tr>\n    <tr>\n      <th>2</th>\n      <td>train/campanian/camp_11nov_4_fc80_20x_3.png</td>\n      <td>396.76</td>\n      <td>402.93</td>\n      <td>0.36</td>\n      <td>3255.70</td>\n      <td>3685.72</td>\n      <td>5945.06</td>\n      <td>0.2752</td>\n      <td>0.02</td>\n      <td>0.42</td>\n      <td>...</td>\n      <td>3</td>\n      <td>0.0</td>\n      <td>191.59</td>\n      <td>652610.0</td>\n      <td>0.68</td>\n      <td>0.21</td>\n      <td>5945.05700</td>\n      <td>12171.9000</td>\n      <td>14.29</td>\n      <td>0</td>\n    </tr>\n    <tr>\n      <th>3</th>\n      <td>train/campanian/camp_11nov_4_fc80_20x_4.png</td>\n      <td>41.14</td>\n      <td>42.30</td>\n      <td>0.64</td>\n      <td>263.21</td>\n      <td>161.45</td>\n      <td>198.50</td>\n      <td>0.2752</td>\n      <td>0.63</td>\n      <td>0.73</td>\n      <td>...</td>\n      <td>0</td>\n      <td>0.0</td>\n      <td>0.00</td>\n      <td>57704.0</td>\n      <td>0.73</td>\n      <td>0.12</td>\n      <td>198.49500</td>\n      <td>292.0631</td>\n      <td>5.91</td>\n      <td>0</td>\n    </tr>\n    <tr>\n      <th>4</th>\n      <td>train/campanian/camp_11nov_4_fc80_20x_5.png</td>\n      <td>23.83</td>\n      <td>23.83</td>\n      <td>0.64</td>\n      <td>143.20</td>\n      <td>65.85</td>\n      <td>87.50</td>\n      <td>0.2752</td>\n      <td>0.69</td>\n      <td>0.87</td>\n      <td>...</td>\n      <td>0</td>\n      <td>0.0</td>\n      <td>0.00</td>\n      <td>47112.0</td>\n      <td>0.81</td>\n      <td>0.08</td>\n      <td>87.49621</td>\n      <td>111.3132</td>\n      <td>4.28</td>\n      <td>0</td>\n    </tr>\n  </tbody>\n</table>\n<p>5 rows × 43 columns</p>\n</div>"
     },
     "metadata": {},
     "execution_count": 5
    }
   ],
   "source": [
    "subset = pd.DataFrame()\n",
    "\n",
    "subset['imgpaths'] = data_overview['imgpaths'].str.split('train/')\n",
    "subset['imgpaths'] = path_prefix + subset['imgpaths'].str[1]\n",
    "\n",
    "#subset = load_and_process_images(subset)\n",
    "\n",
    "subset[['Area (ABD)', 'Area (Filled)', 'Aspect Ratio', 'Biovolume (Cylinder)', 'Biovolume (P. Spheroid)', 'Biovolume (Sphere)', 'Calibration Factor', 'Circle Fit', 'Circularity', 'Circularity (Hu)', 'Compactness', 'Convex Perimeter', 'Convexity', 'Diameter (ABD)', 'Diameter (ESD)', 'Edge Gradient', 'Elongation', 'Feret Angle Max', 'Feret Angle Min', 'Fiber Curl', 'Fiber Straightness', 'Filter Score', 'Geodesic Aspect Ratio', 'Geodesic Length', 'Geodesic Thickness', 'Intensity', 'Length', 'Particles Per Chain', 'Perimeter', 'Roughness', 'Sigma Intensity', 'Sphere Complement', 'Sphere Count', 'Sphere Unknown', 'Sphere Volume', 'Sum Intensity', 'Symmetry', 'Transparency', 'Volume (ABD)', 'Volume (ESD)', 'Width']] = data_overview[['Area (ABD)', 'Area (Filled)', 'Aspect Ratio', 'Biovolume (Cylinder)', 'Biovolume (P. Spheroid)', 'Biovolume (Sphere)', 'Calibration Factor', 'Circle Fit', 'Circularity', 'Circularity (Hu)', 'Compactness', 'Convex Perimeter', 'Convexity', 'Diameter (ABD)', 'Diameter (ESD)', 'Edge Gradient', 'Elongation', 'Feret Angle Max', 'Feret Angle Min', 'Fiber Curl', 'Fiber Straightness', 'Filter Score', 'Geodesic Aspect Ratio', 'Geodesic Length', 'Geodesic Thickness', 'Intensity', 'Length', 'Particles Per Chain', 'Perimeter', 'Roughness', 'Sigma Intensity', 'Sphere Complement', 'Sphere Count', 'Sphere Unknown', 'Sphere Volume', 'Sum Intensity', 'Symmetry', 'Transparency', 'Volume (ABD)', 'Volume (ESD)', 'Width']]\n",
    "\n",
    "subset['Label'] = None\n",
    "subset['Label'][data_overview['camp']==1] = 0\n",
    "subset['Label'][data_overview['corylus']==1] = 1\n",
    "subset['Label'][data_overview['dust']==1] = 2\n",
    "subset['Label'][data_overview['grim']==1] = 3\n",
    "subset['Label'][data_overview['qrob']==1] = 4\n",
    "subset['Label'][data_overview['qsub']==1] = 5\n",
    "subset.head()"
   ]
  },
  {
   "cell_type": "code",
   "execution_count": 6,
   "metadata": {},
   "outputs": [],
   "source": [
    "#plt.imshow(subset['image'][4])"
   ]
  },
  {
   "cell_type": "code",
   "execution_count": 7,
   "metadata": {},
   "outputs": [],
   "source": [
    "#subset.to_pickle('./preprocessedData.zip', protocol=4)\n",
    "#subset.to_csv('./CleanedData.csv', index=False)\n",
    "subset.to_pickle('./CleanedData.pkl')\n",
    "#subset.to_pickle('./preprocessedData.pkl.gz', compression='gzip', protocol=4)"
   ]
  },
  {
   "cell_type": "code",
   "execution_count": 8,
   "metadata": {},
   "outputs": [],
   "source": [
    "#df_data = pd.read_csv('./CleanedData.csv')\n",
    "#df_data = pd.read_pickle('./preprocessedData_wPadding.pkl')\n",
    "#df_data = pd.read_pickle('./preprocessedData.pkl.gz', compression='gzip')"
   ]
  },
  {
   "cell_type": "code",
   "execution_count": 9,
   "metadata": {},
   "outputs": [],
   "source": [
    "#plt.imshow(df_data['image'][4][:,:,0])"
   ]
  },
  {
   "cell_type": "code",
   "execution_count": 10,
   "metadata": {},
   "outputs": [],
   "source": [
    "#df_data.head()"
   ]
  },
  {
   "cell_type": "code",
   "execution_count": 11,
   "metadata": {},
   "outputs": [],
   "source": [
    "#X = df_data['image']\n",
    "#y = df_data['Label']"
   ]
  },
  {
   "cell_type": "code",
   "execution_count": 12,
   "metadata": {},
   "outputs": [],
   "source": [
    "#X_train, X_test, y_train, y_test = train_test_split(X, y, test_size=0.2, random_state=42)"
   ]
  },
  {
   "cell_type": "code",
   "execution_count": 13,
   "metadata": {},
   "outputs": [],
   "source": [
    "df_data = pd.read_pickle('./CleanedData.pkl')"
   ]
  },
  {
   "cell_type": "code",
   "execution_count": 16,
   "metadata": {},
   "outputs": [
    {
     "output_type": "execute_result",
     "data": {
      "text/plain": [
       "array(['train/campanian/camp_11nov_4_fc80_20x_1.png',\n",
       "       'train/campanian/camp_11nov_4_fc80_20x_2.png',\n",
       "       'train/campanian/camp_11nov_4_fc80_20x_3.png',\n",
       "       'train/campanian/camp_11nov_4_fc80_20x_4.png',\n",
       "       'train/campanian/camp_11nov_4_fc80_20x_5.png'], dtype=object)"
      ]
     },
     "metadata": {},
     "execution_count": 16
    }
   ],
   "source": [
    "df_data['imgpaths'][:5].to_numpy()"
   ]
  },
  {
   "cell_type": "code",
   "execution_count": 17,
   "metadata": {},
   "outputs": [],
   "source": [
    "list_ds = tf.data.Dataset.list_files(df_data['imgpaths'].to_numpy(), shuffle=False)"
   ]
  },
  {
   "cell_type": "code",
   "execution_count": 18,
   "metadata": {},
   "outputs": [
    {
     "output_type": "stream",
     "name": "stdout",
     "text": [
      "b'train\\\\campanian\\\\camp_11nov_10_fc80_20x_1.png'\nb'train\\\\campanian\\\\camp_11nov_10_fc80_20x_10.png'\nb'train\\\\campanian\\\\camp_11nov_10_fc80_20x_100.png'\nb'train\\\\campanian\\\\camp_11nov_10_fc80_20x_101.png'\nb'train\\\\campanian\\\\camp_11nov_10_fc80_20x_102.png'\n"
     ]
    }
   ],
   "source": [
    "for f in list_ds.take(5):\n",
    "  print(f.numpy())"
   ]
  }
 ]
}